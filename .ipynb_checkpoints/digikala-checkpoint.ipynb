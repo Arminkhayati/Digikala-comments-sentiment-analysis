{
 "cells": [
  {
   "cell_type": "code",
   "execution_count": 1,
   "metadata": {},
   "outputs": [],
   "source": [
    "import pandas as pd"
   ]
  },
  {
   "cell_type": "code",
   "execution_count": 85,
   "metadata": {},
   "outputs": [
    {
     "name": "stdout",
     "output_type": "stream",
     "text": [
      "WARNING *** OLE2 inconsistency: SSCS size is 0 but SSAT size is non-zero\n"
     ]
    },
    {
     "data": {
      "text/plain": [
       "'اصلا خوب نبود قطعاتش داخله سوراخایی که بود جا نمیشد سوراخا خیلی کوچیک بودن و میتونم بگم که با زور جا انداختمش اصلا خوب نبود،،بنظرم ریلی بود کشوش خیلی بهتر بود چون الان کجو کلست،،حالا در کل منکه گرفتم،اما پیشنهادش نمیکنم.'"
      ]
     },
     "execution_count": 85,
     "metadata": {},
     "output_type": "execute_result"
    }
   ],
   "source": [
    "data = pd.read_excel('data.xls')\n",
    "data.loc[1]['comment']"
   ]
  },
  {
   "cell_type": "code",
   "execution_count": 86,
   "metadata": {},
   "outputs": [
    {
     "data": {
      "text/plain": [
       "'اصلا خوب نبود قطعاتش داخله سوراخایی که بود جا نمیشد سوراخا خیلی کوچیک بودن و میتونم بگم که با زور جا انداختمش اصلا خوب نبود،، بنظرم ریلی بود کشوش خیلی بهتر بود چون الان کجو کلست،، حالا در کل منکه گرفتم، اما پیشنهادش نمیکنم.'"
      ]
     },
     "execution_count": 86,
     "metadata": {},
     "output_type": "execute_result"
    }
   ],
   "source": [
    "from hazm import *\n",
    "normalizer = Normalizer()\n",
    "# Select Verified Comments\n",
    "data = data[data['verification_status'] == 'verified']\n",
    "\n",
    "# Combine Features ('title', 'comment', 'advantages', 'disadvantages')\n",
    "data['combined'] = data['title']+'. '+data['comment']+'. '+data['advantages']+'. '+data['disadvantages']\n",
    "\n",
    "# Remove other columns except this ones\n",
    "data = data[['combined', 'label', 'title', 'comment', 'advantages', 'disadvantages']]\n",
    "\n",
    "# Normalize each column\n",
    "data['comment'] = data['comment'].apply(normalizer.normalize)\n",
    "data['title'] = data['title'].apply(normalizer.normalize)\n",
    "data['advantages'] = data['advantages'].apply(normalizer.normalize)\n",
    "data['disadvantages'] = data['disadvantages'].apply(normalizer.normalize)\n",
    "data['combined'] = data['combined'].apply(normalizer.normalize)\n",
    "\n",
    "data.loc[1]['comment']"
   ]
  },
  {
   "cell_type": "code",
   "execution_count": 123,
   "metadata": {},
   "outputs": [],
   "source": [
    "txt = data.combined[1]\n",
    "def remove_mentions(input_text):\n",
    "        return re.sub(r'@\\w+', '', input_text)"
   ]
  },
  {
   "cell_type": "code",
   "execution_count": 125,
   "metadata": {},
   "outputs": [
    {
     "data": {
      "text/plain": [
       "'کرم اکتی پور نوروا. من پوستم چربه و مستعد جوش، هر کرم پودری که استفاده میکردم بخاطر چربی پوستم سریع میماسید و احساس سنگینی میکردم و جوش میزدم! این کرم رو یکی از دوستان که مشکل پوست من رو داشت بهم معرفی کرد و خیلی راضی بود، منم گرفتم و واقعا راضی هستم. [«مناسب استفاده روزانه برای افراد چرب و مستعد جوش»]. [«از نظر کیفیت ندارد اما با توجه به مقدار کمی که دارد (۳۰میل) خیلی گران است!»]'"
      ]
     },
     "execution_count": 125,
     "metadata": {},
     "output_type": "execute_result"
    }
   ],
   "source": [
    "data.combined[2]"
   ]
  },
  {
   "cell_type": "code",
   "execution_count": 117,
   "metadata": {},
   "outputs": [
    {
     "data": {
      "text/plain": [
       "['او', 'کتاب', 'را', 'در', 'دانشگاه', 'دزدید', '.']"
      ]
     },
     "execution_count": 117,
     "metadata": {},
     "output_type": "execute_result"
    }
   ],
   "source": [
    "# stemmer = Stemmer()\n",
    "# a= normalizer.normalize('او کتاب ها را در دانشگاه ها دزدید.')\n",
    "# a = sent_tokenize(a)\n",
    "# a = word_tokenize(a[0])\n",
    "# list(map(stemmer.stem, a))"
   ]
  }
 ],
 "metadata": {
  "kernelspec": {
   "display_name": "Python 3",
   "language": "python",
   "name": "python3"
  },
  "language_info": {
   "codemirror_mode": {
    "name": "ipython",
    "version": 3
   },
   "file_extension": ".py",
   "mimetype": "text/x-python",
   "name": "python",
   "nbconvert_exporter": "python",
   "pygments_lexer": "ipython3",
   "version": "3.7.3"
  }
 },
 "nbformat": 4,
 "nbformat_minor": 2
}
